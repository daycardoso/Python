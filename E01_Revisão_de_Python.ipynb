{
  "nbformat": 4,
  "nbformat_minor": 0,
  "metadata": {
    "colab": {
      "name": "Dayana E01 - Revisão de Python.ipynb",
      "provenance": [],
      "collapsed_sections": [],
      "include_colab_link": true
    },
    "kernelspec": {
      "name": "python3",
      "display_name": "Python 3"
    },
    "language_info": {
      "name": "python"
    }
  },
  "cells": [
    {
      "cell_type": "markdown",
      "metadata": {
        "id": "view-in-github",
        "colab_type": "text"
      },
      "source": [
        "<a href=\"https://colab.research.google.com/github/daycardoso/Python/blob/main/E01_Revis%C3%A3o_de_Python.ipynb\" target=\"_parent\"><img src=\"https://colab.research.google.com/assets/colab-badge.svg\" alt=\"Open In Colab\"/></a>"
      ]
    },
    {
      "cell_type": "code",
      "metadata": {
        "cellView": "form",
        "id": "eMRulnnoZ-mf"
      },
      "source": [
        "#@title\n",
        "%%capture\n",
        "!rm -rf *\n",
        "!gdown --id '1FthkfI1LhyO4pyg_yFr0CkCjXeEe3VJ3'\n",
        "!unzip *.zip\n",
        "!pip install git+https://github.com/grading/gradememaybe.git\n",
        "\n",
        "from IPython.display import YouTubeVideo\n",
        "from gofer import ok"
      ],
      "execution_count": 45,
      "outputs": []
    },
    {
      "cell_type": "markdown",
      "metadata": {
        "id": "Q9sF-_ZoqXUM"
      },
      "source": [
        "#E01 - Revisão de Python\n",
        "\n",
        "Faça uma cópia deste documento e siga as instruções abaixo para solucionar os exercícios de $1$ a $7$. Após concluir todos exercícios, preencha o formulário de auto-avaliação para efetuar a entrega."
      ]
    },
    {
      "cell_type": "markdown",
      "metadata": {
        "id": "Z38hdMqo7gdu"
      },
      "source": [
        "# Parte 1 - Álgebra Linear"
      ]
    },
    {
      "cell_type": "markdown",
      "metadata": {
        "id": "Cgv2ooRMuoJ8"
      },
      "source": [
        "## 1\n",
        "\n",
        "Após assistir ao vídeo acima, faça um código que importe a função \"cos\" do módulo \"math\" trocando o nome da função para \"cos1\". No mesmo código, também importe a função \"cos\" do módulo \"numpy\" e troque o nome para \"cos2\"."
      ]
    },
    {
      "cell_type": "code",
      "metadata": {
        "id": "BW3mXuDFV7td",
        "colab": {
          "base_uri": "https://localhost:8080/"
        },
        "outputId": "a49b5eb3-e8a2-4361-b7fd-6fe3ec07dfa4"
      },
      "source": [
        "# Universidade Federal do Rio Grande\n",
        "# Dayana S. Cardoso\n",
        "import numpy as np\n",
        "import math\n",
        "def cos1(b):\n",
        "  b = math.cos(b)\n",
        "  return b\n",
        "\n",
        "def cos2(a):\n",
        "  a = np.cos(a)\n",
        "  return a\n",
        "\n",
        "g = 1\n",
        "print(cos1(g))\n",
        "print(cos2(g))\n",
        "print(math.cos(g))\n",
        "print(np.cos(g))\n"
      ],
      "execution_count": 46,
      "outputs": [
        {
          "output_type": "stream",
          "name": "stdout",
          "text": [
            "0.5403023058681398\n",
            "0.5403023058681398\n",
            "0.5403023058681398\n",
            "0.5403023058681398\n"
          ]
        }
      ]
    },
    {
      "cell_type": "markdown",
      "metadata": {
        "id": "S1_2Bdbkvnp7"
      },
      "source": [
        "## 2\n",
        "\n",
        "Mostre o que acontece ao tentar multiplicar uma lista nativa do Python por um número inteiro. Para fazer isso, tome como ponto de partida a lista de nome `a` abaixo, multiplique esta lista por `5`, e salve o resultado numa variável de nome `b`."
      ]
    },
    {
      "cell_type": "code",
      "metadata": {
        "id": "wdtkTDX9vUdU",
        "colab": {
          "base_uri": "https://localhost:8080/"
        },
        "outputId": "842add63-785e-43fc-816e-3b2696345a13"
      },
      "source": [
        "a = [1, 2, 3]\n",
        "b = a * 5\n",
        "print(b)\n",
        "# Desse modo a lista é concatenada o numero de vezes que for mutiplicada.\n",
        "\n"
      ],
      "execution_count": 47,
      "outputs": [
        {
          "output_type": "stream",
          "name": "stdout",
          "text": [
            "[1, 2, 3, 1, 2, 3, 1, 2, 3, 1, 2, 3, 1, 2, 3]\n"
          ]
        }
      ]
    },
    {
      "cell_type": "markdown",
      "metadata": {
        "id": "1pxt4NzrzCvN"
      },
      "source": [
        "##3\n",
        "\n",
        "Crie uma matriz usando `array` do NumPy, com $100$ linhas (numeradas de $0$ a $99$) e $5$ colunas (numeradas de $0$ a $4$), onde cada elemento da linha $i$ e coluna $j$ é o resultado da multiplicação $i*j$ (onde $i$ e $j$ são inteiros). Grave o resultado na variável `c`."
      ]
    },
    {
      "cell_type": "code",
      "metadata": {
        "id": "mT9nbqw1zCRT",
        "colab": {
          "base_uri": "https://localhost:8080/"
        },
        "outputId": "87ebcd0a-9653-4712-95df-524bbee88c83"
      },
      "source": [
        "import numpy as np\n",
        "a = np.array(range(0,500)).reshape(100,5)\n",
        "for i in range(100):\n",
        "  for j in range(5):\n",
        "      a[i][j] = i * j\n",
        "  c = a\n",
        "\n",
        "print(c)"
      ],
      "execution_count": 48,
      "outputs": [
        {
          "output_type": "stream",
          "name": "stdout",
          "text": [
            "[[  0   0   0   0   0]\n",
            " [  0   1   2   3   4]\n",
            " [  0   2   4   6   8]\n",
            " [  0   3   6   9  12]\n",
            " [  0   4   8  12  16]\n",
            " [  0   5  10  15  20]\n",
            " [  0   6  12  18  24]\n",
            " [  0   7  14  21  28]\n",
            " [  0   8  16  24  32]\n",
            " [  0   9  18  27  36]\n",
            " [  0  10  20  30  40]\n",
            " [  0  11  22  33  44]\n",
            " [  0  12  24  36  48]\n",
            " [  0  13  26  39  52]\n",
            " [  0  14  28  42  56]\n",
            " [  0  15  30  45  60]\n",
            " [  0  16  32  48  64]\n",
            " [  0  17  34  51  68]\n",
            " [  0  18  36  54  72]\n",
            " [  0  19  38  57  76]\n",
            " [  0  20  40  60  80]\n",
            " [  0  21  42  63  84]\n",
            " [  0  22  44  66  88]\n",
            " [  0  23  46  69  92]\n",
            " [  0  24  48  72  96]\n",
            " [  0  25  50  75 100]\n",
            " [  0  26  52  78 104]\n",
            " [  0  27  54  81 108]\n",
            " [  0  28  56  84 112]\n",
            " [  0  29  58  87 116]\n",
            " [  0  30  60  90 120]\n",
            " [  0  31  62  93 124]\n",
            " [  0  32  64  96 128]\n",
            " [  0  33  66  99 132]\n",
            " [  0  34  68 102 136]\n",
            " [  0  35  70 105 140]\n",
            " [  0  36  72 108 144]\n",
            " [  0  37  74 111 148]\n",
            " [  0  38  76 114 152]\n",
            " [  0  39  78 117 156]\n",
            " [  0  40  80 120 160]\n",
            " [  0  41  82 123 164]\n",
            " [  0  42  84 126 168]\n",
            " [  0  43  86 129 172]\n",
            " [  0  44  88 132 176]\n",
            " [  0  45  90 135 180]\n",
            " [  0  46  92 138 184]\n",
            " [  0  47  94 141 188]\n",
            " [  0  48  96 144 192]\n",
            " [  0  49  98 147 196]\n",
            " [  0  50 100 150 200]\n",
            " [  0  51 102 153 204]\n",
            " [  0  52 104 156 208]\n",
            " [  0  53 106 159 212]\n",
            " [  0  54 108 162 216]\n",
            " [  0  55 110 165 220]\n",
            " [  0  56 112 168 224]\n",
            " [  0  57 114 171 228]\n",
            " [  0  58 116 174 232]\n",
            " [  0  59 118 177 236]\n",
            " [  0  60 120 180 240]\n",
            " [  0  61 122 183 244]\n",
            " [  0  62 124 186 248]\n",
            " [  0  63 126 189 252]\n",
            " [  0  64 128 192 256]\n",
            " [  0  65 130 195 260]\n",
            " [  0  66 132 198 264]\n",
            " [  0  67 134 201 268]\n",
            " [  0  68 136 204 272]\n",
            " [  0  69 138 207 276]\n",
            " [  0  70 140 210 280]\n",
            " [  0  71 142 213 284]\n",
            " [  0  72 144 216 288]\n",
            " [  0  73 146 219 292]\n",
            " [  0  74 148 222 296]\n",
            " [  0  75 150 225 300]\n",
            " [  0  76 152 228 304]\n",
            " [  0  77 154 231 308]\n",
            " [  0  78 156 234 312]\n",
            " [  0  79 158 237 316]\n",
            " [  0  80 160 240 320]\n",
            " [  0  81 162 243 324]\n",
            " [  0  82 164 246 328]\n",
            " [  0  83 166 249 332]\n",
            " [  0  84 168 252 336]\n",
            " [  0  85 170 255 340]\n",
            " [  0  86 172 258 344]\n",
            " [  0  87 174 261 348]\n",
            " [  0  88 176 264 352]\n",
            " [  0  89 178 267 356]\n",
            " [  0  90 180 270 360]\n",
            " [  0  91 182 273 364]\n",
            " [  0  92 184 276 368]\n",
            " [  0  93 186 279 372]\n",
            " [  0  94 188 282 376]\n",
            " [  0  95 190 285 380]\n",
            " [  0  96 192 288 384]\n",
            " [  0  97 194 291 388]\n",
            " [  0  98 196 294 392]\n",
            " [  0  99 198 297 396]]\n"
          ]
        }
      ]
    },
    {
      "cell_type": "markdown",
      "metadata": {
        "id": "-oVA5xfG6EwQ"
      },
      "source": [
        "## 4\n",
        "\n",
        "Faça um gráfico da função `y = 1.0 / (1.0 + np.exp(-x))` para $100$ valores de `x` igualmente distribuídos no intervalo entre $-5$ e $+5$. Seguindo o exemplo do vídeo, use linspsace do numpy, e a função plot do pyplot, submódulo do matplotlib. Salve a imagem para fazer upload no formulário de entrega desse exercício.\n"
      ]
    },
    {
      "cell_type": "code",
      "metadata": {
        "id": "s7LODpe16ZUH",
        "colab": {
          "base_uri": "https://localhost:8080/",
          "height": 1000
        },
        "outputId": "749c4aba-cc3a-4078-80af-a7b4a2b91ed9"
      },
      "source": [
        "import numpy as np \n",
        "x = np.array(np.arange(-5,5,0.1))\n",
        "y = 1.0 / (1.0 + np.exp(-x))\n",
        "print(x)\n",
        "print(y)\n",
        "from matplotlib import pyplot as plt \n",
        "plt.plot(x,y)"
      ],
      "execution_count": 49,
      "outputs": [
        {
          "output_type": "stream",
          "name": "stdout",
          "text": [
            "[-5.00000000e+00 -4.90000000e+00 -4.80000000e+00 -4.70000000e+00\n",
            " -4.60000000e+00 -4.50000000e+00 -4.40000000e+00 -4.30000000e+00\n",
            " -4.20000000e+00 -4.10000000e+00 -4.00000000e+00 -3.90000000e+00\n",
            " -3.80000000e+00 -3.70000000e+00 -3.60000000e+00 -3.50000000e+00\n",
            " -3.40000000e+00 -3.30000000e+00 -3.20000000e+00 -3.10000000e+00\n",
            " -3.00000000e+00 -2.90000000e+00 -2.80000000e+00 -2.70000000e+00\n",
            " -2.60000000e+00 -2.50000000e+00 -2.40000000e+00 -2.30000000e+00\n",
            " -2.20000000e+00 -2.10000000e+00 -2.00000000e+00 -1.90000000e+00\n",
            " -1.80000000e+00 -1.70000000e+00 -1.60000000e+00 -1.50000000e+00\n",
            " -1.40000000e+00 -1.30000000e+00 -1.20000000e+00 -1.10000000e+00\n",
            " -1.00000000e+00 -9.00000000e-01 -8.00000000e-01 -7.00000000e-01\n",
            " -6.00000000e-01 -5.00000000e-01 -4.00000000e-01 -3.00000000e-01\n",
            " -2.00000000e-01 -1.00000000e-01 -1.77635684e-14  1.00000000e-01\n",
            "  2.00000000e-01  3.00000000e-01  4.00000000e-01  5.00000000e-01\n",
            "  6.00000000e-01  7.00000000e-01  8.00000000e-01  9.00000000e-01\n",
            "  1.00000000e+00  1.10000000e+00  1.20000000e+00  1.30000000e+00\n",
            "  1.40000000e+00  1.50000000e+00  1.60000000e+00  1.70000000e+00\n",
            "  1.80000000e+00  1.90000000e+00  2.00000000e+00  2.10000000e+00\n",
            "  2.20000000e+00  2.30000000e+00  2.40000000e+00  2.50000000e+00\n",
            "  2.60000000e+00  2.70000000e+00  2.80000000e+00  2.90000000e+00\n",
            "  3.00000000e+00  3.10000000e+00  3.20000000e+00  3.30000000e+00\n",
            "  3.40000000e+00  3.50000000e+00  3.60000000e+00  3.70000000e+00\n",
            "  3.80000000e+00  3.90000000e+00  4.00000000e+00  4.10000000e+00\n",
            "  4.20000000e+00  4.30000000e+00  4.40000000e+00  4.50000000e+00\n",
            "  4.60000000e+00  4.70000000e+00  4.80000000e+00  4.90000000e+00]\n",
            "[0.00669285 0.00739154 0.00816257 0.0090133  0.0099518  0.01098694\n",
            " 0.01212843 0.01338692 0.01477403 0.0163025  0.01798621 0.01984031\n",
            " 0.02188127 0.02412702 0.02659699 0.02931223 0.03229546 0.03557119\n",
            " 0.03916572 0.04310725 0.04742587 0.05215356 0.05732418 0.06297336\n",
            " 0.06913842 0.07585818 0.0831727  0.09112296 0.09975049 0.10909682\n",
            " 0.11920292 0.13010847 0.14185106 0.15446527 0.16798161 0.18242552\n",
            " 0.19781611 0.21416502 0.23147522 0.24973989 0.26894142 0.2890505\n",
            " 0.31002552 0.33181223 0.35434369 0.37754067 0.40131234 0.42555748\n",
            " 0.450166   0.47502081 0.5        0.52497919 0.549834   0.57444252\n",
            " 0.59868766 0.62245933 0.64565631 0.66818777 0.68997448 0.7109495\n",
            " 0.73105858 0.75026011 0.76852478 0.78583498 0.80218389 0.81757448\n",
            " 0.83201839 0.84553473 0.85814894 0.86989153 0.88079708 0.89090318\n",
            " 0.90024951 0.90887704 0.9168273  0.92414182 0.93086158 0.93702664\n",
            " 0.94267582 0.94784644 0.95257413 0.95689275 0.96083428 0.96442881\n",
            " 0.96770454 0.97068777 0.97340301 0.97587298 0.97811873 0.98015969\n",
            " 0.98201379 0.9836975  0.98522597 0.98661308 0.98787157 0.98901306\n",
            " 0.9900482  0.9909867  0.99183743 0.99260846]\n"
          ]
        },
        {
          "output_type": "execute_result",
          "data": {
            "text/plain": [
              "[<matplotlib.lines.Line2D at 0x7f41f2581310>]"
            ]
          },
          "metadata": {},
          "execution_count": 49
        },
        {
          "output_type": "display_data",
          "data": {
            "text/plain": [
              "<Figure size 432x288 with 1 Axes>"
            ],
            "image/png": "[encoded data removed]"
          },
          "metadata": {
            "needs_background": "light"
          }
        }
      ]
    },
    {
      "cell_type": "markdown",
      "metadata": {
        "id": "6iBiZeWg7lXd"
      },
      "source": [
        "# Parte 2 - Orientação a Objetos"
      ]
    },
    {
      "cell_type": "markdown",
      "metadata": {
        "id": "nKyjsxI-775f"
      },
      "source": [
        "##5\n",
        "\n",
        "Implemente o código das classes `Quadrado` e `Triangulo` como mostrado no vídeo."
      ]
    },
    {
      "cell_type": "code",
      "metadata": {
        "id": "dnmIlMvM77P8",
        "colab": {
          "base_uri": "https://localhost:8080/"
        },
        "outputId": "1b7d7576-193e-4d66-adf2-2b3e8196c2a8"
      },
      "source": [
        "class Quadrado:\n",
        "  lado = 0\n",
        "  \n",
        "  def __init__(self,l):\n",
        "    self.lado = l\n",
        "  def area(self):\n",
        "    return self.lado**2\n",
        "\n",
        "class Triangulo:\n",
        "  base = 0\n",
        "  altura = 0\n",
        "  def __init__(self,b,h):\n",
        "    self.base = b\n",
        "    self.altura = h\n",
        "  def area(self):\n",
        "    return self.base * self.altura / 2.0\n",
        "\n",
        "q1 = Quadrado(3)\n",
        "q2 = Quadrado(4)\n",
        "t1 = Triangulo(4,5)\n",
        "\n",
        "\n",
        "print(q1.area())\n",
        "print(q2.area())\n",
        "print(t1.area())\n",
        "           "
      ],
      "execution_count": 50,
      "outputs": [
        {
          "output_type": "stream",
          "name": "stdout",
          "text": [
            "9\n",
            "16\n",
            "10.0\n"
          ]
        }
      ]
    },
    {
      "cell_type": "markdown",
      "metadata": {
        "id": "zFsVK1rG791c"
      },
      "source": [
        "## 6\n",
        "\n",
        "No mesmo código acrescente também o código da classe `Circulo`, recebendo o parâmetro `raio` no construtor definindo sua propriedade `raio` e método `area()`. Siga o exemplo das classes `Quadrado` e `Triangulo` modificando apenas onde for necessário.\n"
      ]
    },
    {
      "cell_type": "code",
      "metadata": {
        "id": "l8MkwVpv8CT1",
        "colab": {
          "base_uri": "https://localhost:8080/"
        },
        "outputId": "2a7352b9-fe5c-4073-ccba-e7cf916e5658"
      },
      "source": [
        "import math\n",
        "\n",
        "# A = pi * r**2\n",
        "class Circulo:\n",
        "  raio = 0\n",
        "  def __init__(self,r):\n",
        "      self.raio = r\n",
        "  def area(self):\n",
        "    return math.pi * self.raio**2\n",
        "\n",
        "c1 = Circulo(3)\n",
        "\n",
        "print(c1.area())\n",
        "\n"
      ],
      "execution_count": 51,
      "outputs": [
        {
          "output_type": "stream",
          "name": "stdout",
          "text": [
            "28.274333882308138\n"
          ]
        }
      ]
    },
    {
      "cell_type": "markdown",
      "metadata": {
        "id": "EYdTM5Bud3q_"
      },
      "source": [
        "## 7\n",
        "\n",
        "Utilizando as classes acima, crie uma lista com $20$ objetos de cada classe (total de $60$ objetos), todos com propriedades, tais como `lado`, `base`, `altura` e `raio` aleatórias, todas com valores sorteados no intervalo entre `1` e `10`. Para fazer isso, utilize laço `for` (criando $20$ objetos de cada classe) e para criar as propriedades aleatórias use a função `randint(1,10)` do submódulo `random` do `numpy` (por exemplo, use `from numpy.random import randint` no início do código). Coloque todos objetos em uma única lista (não faça uma lista de listas, mas sim uma única lista, que vai sendo preenchida em cada laço com os $60$ objetos). O nome da variável que deve conter essa lista final deve ser `objs`.\n"
      ]
    },
    {
      "cell_type": "code",
      "metadata": {
        "id": "9SxgVRR-fcoK",
        "colab": {
          "base_uri": "https://localhost:8080/"
        },
        "outputId": "34988c79-1944-4f28-b6cb-66c3ee5e360e"
      },
      "source": [
        "from numpy.random.mtrand import random\n",
        "from numpy.core.fromnumeric import shape\n",
        "from numpy.random import randint\n",
        "import numpy as np\n",
        "import math\n",
        "\n",
        "class Quadrado:\n",
        "  lado = 0\n",
        "  def __init__(self,l):\n",
        "    self.lado = l\n",
        "  def area(self):\n",
        "    return self.lado**2\n",
        "\n",
        "class Triangulo:\n",
        "  base = 0\n",
        "  altura = 0\n",
        "  def __init__(self,b,h):\n",
        "    self.base = b\n",
        "    self.altura = h\n",
        "  def area(self):\n",
        "    return self.base * self.altura / 2.0\n",
        "\n",
        "class Circulo:\n",
        "  raio = 0\n",
        "  def __init__(self,r):\n",
        "      self.raio = r\n",
        "  def area(self):\n",
        "    return math.pi * self.raio**2\n",
        "\n",
        "objs = np.array(range(60))\n",
        "\n",
        "for i in range(60):\n",
        "  if i <= 19:\n",
        "    q1 = Quadrado(np.random.randint(1,10))\n",
        "    objs[i] = q1.area()\n",
        "\n",
        "  elif 19> i <= 39:\n",
        "    t1 = Triangulo((np.random.randint(1,10)),(np.random.randint(1,10)))\n",
        "    objs[i] = t1.area()\n",
        "  \n",
        "  else:\n",
        "    c1 = Circulo(np.random.randint(1,10))\n",
        "    objs[i] = c1.area()\n",
        "\n",
        "print(objs)\n",
        "objs.shape"
      ],
      "execution_count": 52,
      "outputs": [
        {
          "output_type": "stream",
          "name": "stdout",
          "text": [
            "[  4   4  64  25  16   4  81  49  49  36   4  16  36  81  64  64  49  16\n",
            "  36   4  50 113   3 153  50   3  12  28 254 113  12 201  28  50   3 153\n",
            "  12 153 254  50  12  78 201 201   3 153 153 153 153   3 254 254  50  78\n",
            "  28   3  50 254 153  78]\n"
          ]
        },
        {
          "output_type": "execute_result",
          "data": {
            "text/plain": [
              "(60,)"
            ]
          },
          "metadata": {},
          "execution_count": 52
        }
      ]
    },
    {
      "cell_type": "markdown",
      "metadata": {
        "id": "5kCoNfZslgtG"
      },
      "source": [
        "## 8\n",
        "Use a função `shuffle()` para embaralhar a ordem dos elementos na lista. A função `shuffle` também está no submódulo `random` do módulo `numpy`, ou seja, precisa ser importada.\n",
        "\n",
        "Após tudo isso calcule a soma total de todas as áreas desses objetos que estão contidos na lista, e mostre o resultado.\n",
        "\n",
        "Salve a área total numa variável de nome `soma`"
      ]
    },
    {
      "cell_type": "code",
      "metadata": {
        "id": "g6Z3nBPZl88h",
        "colab": {
          "base_uri": "https://localhost:8080/"
        },
        "outputId": "ce7ea89d-512a-44a4-8672-6d6a3f2cfa9c"
      },
      "source": [
        "from numpy.random.mtrand import random\n",
        "from numpy.random import randint\n",
        "from numpy.random import shuffle\n",
        "import numpy as np\n",
        "import math\n",
        "\n",
        "class Quadrado:\n",
        "  lado = 0\n",
        "  def __init__(self,l):\n",
        "    self.lado = l\n",
        "  def area(self):\n",
        "    return self.lado**2\n",
        "\n",
        "class Triangulo:\n",
        "  base = 0\n",
        "  altura = 0\n",
        "  def __init__(self,b,h):\n",
        "    self.base = b\n",
        "    self.altura = h\n",
        "  def area(self):\n",
        "    return self.base * self.altura / 2.0\n",
        "\n",
        "class Circulo:\n",
        "  raio = 0\n",
        "  def __init__(self,r):\n",
        "      self.raio = r\n",
        "  def area(self):\n",
        "    return math.pi * self.raio**2\n",
        "\n",
        "objs = np.array(range(60))\n",
        "\n",
        "for i in range(60):\n",
        "  if i <= 19:\n",
        "    q1 = Quadrado(np.random.randint(1,10))\n",
        "    objs[i] = q1.area()\n",
        "\n",
        "  elif 19> i <= 39:\n",
        "    t1 = Triangulo((np.random.randint(1,10)),(np.random.randint(1,10)))\n",
        "    objs[i] = t1.area()\n",
        "  \n",
        "  else:\n",
        "    c1 = Circulo(np.random.randint(1,10))\n",
        "    objs[i] = c1.area()\n",
        "\n",
        "print(objs)\n",
        "np.random.shuffle(objs)\n",
        "print(objs)\n",
        "\n",
        "soma = 0\n",
        "for j in range(60):\n",
        "  soma = soma + objs[j]\n",
        "  \n",
        "print(soma)"
      ],
      "execution_count": 53,
      "outputs": [
        {
          "output_type": "stream",
          "name": "stdout",
          "text": [
            "[ 81  81  81  16   9  36  36   9  49  64  81   4   4  64  25  36  49  81\n",
            "   4   9 153 201   3  50 254 113  12 153 201 113  78 153  50  28  50 254\n",
            "  50  28 201  12   3  78   3 113  28   3  28  12  50 113 113  50 254  12\n",
            "   3  28   3  50 113 113]\n",
            "[113   4   3  25 113   3  12  50  50   9   3  16   4  49  49   9  28  12\n",
            "  28  50  36 153  12 201  81  50 254 113  50 201   3 113  28 153  36  78\n",
            " 254   9  81 201  64   3   3  78 153  81  50  12  50 113  28   4 113 254\n",
            "  81 113  36  28  81  64]\n",
            "4146\n"
          ]
        }
      ]
    }
  ]
}